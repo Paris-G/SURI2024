{
  "nbformat": 4,
  "nbformat_minor": 0,
  "metadata": {
    "colab": {
      "provenance": [],
      "include_colab_link": true
    },
    "kernelspec": {
      "name": "python3",
      "display_name": "Python 3"
    },
    "language_info": {
      "name": "python"
    }
  },
  "cells": [
    {
      "cell_type": "markdown",
      "metadata": {
        "id": "view-in-github",
        "colab_type": "text"
      },
      "source": [
        "<a href=\"https://colab.research.google.com/github/Paris-G/SURI2024/blob/main/Eigen_values.ipynb\" target=\"_parent\"><img src=\"https://colab.research.google.com/assets/colab-badge.svg\" alt=\"Open In Colab\"/></a>"
      ]
    },
    {
      "cell_type": "code",
      "execution_count": null,
      "metadata": {
        "colab": {
          "base_uri": "https://localhost:8080/"
        },
        "id": "hej_yF6DE477",
        "outputId": "d90c45b7-4510-4a9f-defe-b8c161fd5eb5"
      },
      "outputs": [
        {
          "output_type": "stream",
          "name": "stdout",
          "text": [
            "Eigenvalues: [3.82842712 0.58578644]\n",
            "Eigenvectors: [[ 0.92387953 -0.63795197]\n",
            " [ 0.38268343  0.77007615]]\n"
          ]
        }
      ],
      "source": [
        "# prompt: eigen values and eigen vectors\n",
        "#Question): Find the eigen values and eigen vectors of matrix representation\n",
        "\n",
        "import numpy as np\n",
        "A = np.array([[3, 2], [1, np.sqrt(2)]])\n",
        "eigenvalues, eigenvectors = np.linalg.eig(A)\n",
        "print(\"Eigenvalues:\", eigenvalues)\n",
        "print(\"Eigenvectors:\", eigenvectors)\n"
      ]
    },
    {
      "cell_type": "code",
      "execution_count": null,
      "metadata": {
        "colab": {
          "base_uri": "https://localhost:8080/"
        },
        "outputId": "a7366b83-69a0-47a5-cb31-fb8ed1b356fe",
        "id": "lb1KWjhw3hPH"
      },
      "outputs": [
        {
          "output_type": "stream",
          "name": "stdout",
          "text": [
            "Eigenvalues: [1. 1.]\n",
            "Eigenvectors: [[1. 0.]\n",
            " [0. 1.]]\n"
          ]
        }
      ],
      "source": [
        "# prompt: eigen values and eigen vectors\n",
        "#Question): Find the eigen values and eigen vectors of matrix representation\n",
        "\n",
        "import numpy as np\n",
        "A = np.array([[1, 0], [0, 1]])\n",
        "eigenvalues, eigenvectors = np.linalg.eig(A)\n",
        "print(\"Eigenvalues:\", eigenvalues)\n",
        "print(\"Eigenvectors:\", eigenvectors)\n"
      ]
    },
    {
      "cell_type": "markdown",
      "source": [
        "Matrices\n",
        "vectors and state are the same\n",
        "therefore; a= (2 1 over -1 -1)\n",
        "a1 = (2 over -1)\n",
        "a2= (1 over -1)\n",
        "eigen value = energy of the state of a quantum computer."
      ],
      "metadata": {
        "id": "OSiO1tHT22su"
      }
    }
  ]
}