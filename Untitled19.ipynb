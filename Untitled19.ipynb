{
  "nbformat": 4,
  "nbformat_minor": 0,
  "metadata": {
    "colab": {
      "provenance": [],
      "include_colab_link": true
    },
    "kernelspec": {
      "name": "python3",
      "display_name": "Python 3"
    },
    "language_info": {
      "name": "python"
    }
  },
  "cells": [
    {
      "cell_type": "markdown",
      "metadata": {
        "id": "view-in-github",
        "colab_type": "text"
      },
      "source": [
        "<a href=\"https://colab.research.google.com/github/Paris-G/SURI2024/blob/main/Untitled19.ipynb\" target=\"_parent\"><img src=\"https://colab.research.google.com/assets/colab-badge.svg\" alt=\"Open In Colab\"/></a>"
      ]
    },
    {
      "cell_type": "code",
      "execution_count": 1,
      "metadata": {
        "colab": {
          "base_uri": "https://localhost:8080/"
        },
        "id": "j89KhnL0KM1v",
        "outputId": "5f233f5e-7c4a-402d-dd30-2203dd31cc1c"
      },
      "outputs": [
        {
          "output_type": "stream",
          "name": "stdout",
          "text": [
            "Controlled NOT gate matrix:\n",
            "[[1 0 0 0]\n",
            " [0 1 0 0]\n",
            " [0 0 0 1]\n",
            " [0 0 1 0]]\n"
          ]
        }
      ],
      "source": [
        "# prompt: controlled NOT gate in matrix form\n",
        "\n",
        "import numpy as np\n",
        "\n",
        "# Define the Pauli X gate matrix\n",
        "X = np.array([[0, 1], [1, 0]])\n",
        "\n",
        "# Define the Pauli Z gate matrix\n",
        "Z = np.array([[1, 0], [0, -1]])\n",
        "\n",
        "# Define the controlled NOT gate matrix\n",
        "CNOT = np.array([[1, 0, 0, 0],\n",
        "                 [0, 1, 0, 0],\n",
        "                 [0, 0, 0, 1],\n",
        "                 [0, 0, 1, 0]])\n",
        "\n",
        "# Print the controlled NOT gate matrix\n",
        "print(\"Controlled NOT gate matrix:\")\n",
        "print(CNOT)\n"
      ]
    }
  ]
}