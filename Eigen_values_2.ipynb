{
  "nbformat": 4,
  "nbformat_minor": 0,
  "metadata": {
    "colab": {
      "provenance": [],
      "include_colab_link": true
    },
    "kernelspec": {
      "name": "python3",
      "display_name": "Python 3"
    },
    "language_info": {
      "name": "python"
    }
  },
  "cells": [
    {
      "cell_type": "markdown",
      "metadata": {
        "id": "view-in-github",
        "colab_type": "text"
      },
      "source": [
        "<a href=\"https://colab.research.google.com/github/Paris-G/SURI2024/blob/main/Eigen_values_2.ipynb\" target=\"_parent\"><img src=\"https://colab.research.google.com/assets/colab-badge.svg\" alt=\"Open In Colab\"/></a>"
      ]
    },
    {
      "cell_type": "code",
      "execution_count": null,
      "metadata": {
        "colab": {
          "base_uri": "https://localhost:8080/"
        },
        "id": "hej_yF6DE477",
        "outputId": "58aefc38-2624-411e-c6a5-a6a4beb9a9fc"
      },
      "outputs": [
        {
          "output_type": "stream",
          "name": "stdout",
          "text": [
            "Eigenvalues: [ 1.61803399 -0.61803399]\n",
            "Eigenvectors: [[0.93417236 0.35682209]\n",
            " [0.35682209 0.93417236]]\n"
          ]
        }
      ],
      "source": [
        "# prompt: eigen values and eigen vectors\n",
        "#Question): Find the eigen values and eigen vectors of matrix representation\n",
        "\n",
        "import numpy as np\n",
        "A = np.array([[2, -1], [1, -1]])\n",
        "eigenvalues, eigenvectors = np.linalg.eig(A)\n",
        "print(\"Eigenvalues:\", eigenvalues)\n",
        "print(\"Eigenvectors:\", eigenvectors)\n"
      ]
    },
    {
      "cell_type": "code",
      "source": [
        "# prompt: normalization of a state\n",
        "\n",
        "import numpy as np\n",
        "\n",
        "# Define the state vector\n",
        "state_vector = np.array([1, 1])\n",
        "\n",
        "# Normalize the state vector\n",
        "norm = np.linalg.norm(state_vector)\n",
        "normalized_state_vector = state_vector / np.linalg.norm(state_vector)\n",
        "\n",
        "# Print the normalized state vector\n",
        "print(\"Norm:\", norm)\n",
        "print(\"Normalized state vector:\", normalized_state_vector)\n"
      ],
      "metadata": {
        "colab": {
          "base_uri": "https://localhost:8080/"
        },
        "id": "kjwZA9Qum6mZ",
        "outputId": "afe99811-d8b5-45fd-b16c-be8414af4370"
      },
      "execution_count": null,
      "outputs": [
        {
          "output_type": "stream",
          "name": "stdout",
          "text": [
            "Norm: 1.4142135623730951\n",
            "Normalized state vector: [0.70710678 0.70710678]\n"
          ]
        }
      ]
    },
    {
      "cell_type": "code",
      "source": [
        "# prompt: diagonalize a matrix(2,1)\n",
        "\n",
        "import numpy as np\n",
        "\n",
        "# Define the matrix\n",
        "A = np.array([[2, -1], [1, -1]])\n",
        "\n",
        "# Find the eigenvalues and eigenvectors of A\n",
        "eigenvalues, eigenvectors = np.linalg.eig(A)\n",
        "\n",
        "# Create a diagonal matrix from the eigenvalues\n",
        "D = np.diag(eigenvalues)\n",
        "\n",
        "# Create a matrix from the eigenvectors\n",
        "P = eigenvectors\n",
        "\n",
        "# Compute the inverse of P\n",
        "P_inv = np.linalg.inv(P)\n",
        "\n",
        "# Diagonalize the matrix\n",
        "#A_diagonalized = P @ D @ P_inv\n",
        "\n",
        "# Print the diagonalized matrix\n",
        "print(\"Diagonalized matrix:\")\n",
        "print(A_diagonalized)\n",
        "print(D)\n",
        "print(P)\n"
      ],
      "metadata": {
        "colab": {
          "base_uri": "https://localhost:8080/"
        },
        "id": "9MgGmizC5oKG",
        "outputId": "156735b9-1fc8-4579-9926-6612252af394"
      },
      "execution_count": null,
      "outputs": [
        {
          "output_type": "stream",
          "name": "stdout",
          "text": [
            "Diagonalized matrix:\n",
            "[[ 2. -1.]\n",
            " [ 1. -1.]]\n",
            "[[ 1.61803399  0.        ]\n",
            " [ 0.         -0.61803399]]\n",
            "[[0.93417236 0.35682209]\n",
            " [0.35682209 0.93417236]]\n"
          ]
        }
      ]
    },
    {
      "cell_type": "code",
      "source": [
        "# prompt: diagonalize a matrix(2,1)\n",
        "\n",
        "import numpy as np\n",
        "\n",
        "# Define the matrix\n",
        "A = np.array([[2, 4], [3, 5]])\n",
        "\n",
        "# Find the eigenvalues and eigenvectors of A\n",
        "eigenvalues, eigenvectors = np.linalg.eig(A)\n",
        "\n",
        "# Create a diagonal matrix from the eigenvalues\n",
        "D = np.diag(eigenvalues)\n",
        "\n",
        "# Create a matrix from the eigenvectors\n",
        "P = eigenvectors\n",
        "\n",
        "# Compute the inverse of P\n",
        "P_inv = np.linalg.inv(P)\n",
        "\n",
        "# Diagonalize the matrix\n",
        "A_diagonalized = P @ D @ P_inv\n",
        "\n",
        "# Print the diagonalized matrix\n",
        "print(\"Diagonalized matrix:\")\n",
        "print(A_diagonalized)\n",
        "print(D)\n",
        "print(P)\n"
      ],
      "metadata": {
        "colab": {
          "base_uri": "https://localhost:8080/"
        },
        "outputId": "a8512fbc-0824-4075-9c5b-3f524853a013",
        "id": "zb9z2YbW8F32"
      },
      "execution_count": null,
      "outputs": [
        {
          "output_type": "stream",
          "name": "stdout",
          "text": [
            "Diagonalized matrix:\n",
            "[[2. 4.]\n",
            " [3. 5.]]\n",
            "[[-0.27491722  0.        ]\n",
            " [ 0.          7.27491722]]\n",
            "[[-0.86925207 -0.60422718]\n",
            " [ 0.49436913 -0.79681209]]\n"
          ]
        }
      ]
    }
  ]
}