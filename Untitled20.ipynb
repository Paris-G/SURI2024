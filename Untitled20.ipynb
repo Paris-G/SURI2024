{
  "nbformat": 4,
  "nbformat_minor": 0,
  "metadata": {
    "colab": {
      "provenance": [],
      "include_colab_link": true
    },
    "kernelspec": {
      "name": "python3",
      "display_name": "Python 3"
    },
    "language_info": {
      "name": "python"
    }
  },
  "cells": [
    {
      "cell_type": "markdown",
      "metadata": {
        "id": "view-in-github",
        "colab_type": "text"
      },
      "source": [
        "<a href=\"https://colab.research.google.com/github/Paris-G/SURI2024/blob/main/Untitled20.ipynb\" target=\"_parent\"><img src=\"https://colab.research.google.com/assets/colab-badge.svg\" alt=\"Open In Colab\"/></a>"
      ]
    },
    {
      "cell_type": "code",
      "execution_count": 1,
      "metadata": {
        "id": "30Kw4fTMLNNW",
        "colab": {
          "base_uri": "https://localhost:8080/"
        },
        "outputId": "24a79200-891f-458b-d7b7-bb68e0bfac71"
      },
      "outputs": [
        {
          "output_type": "stream",
          "name": "stdout",
          "text": [
            "State |0>: \n",
            " [[1]\n",
            " [0]]\n",
            "\n",
            "State |1>: \n",
            " [[0]\n",
            " [1]]\n"
          ]
        }
      ],
      "source": [
        "# prompt: state |0> and state |1> in matrix form\n",
        "\n",
        "import numpy as np\n",
        "\n",
        "ket0 = np.array([[1],[0]])\n",
        "ket1 = np.array([[0],[1]])\n",
        "\n",
        "print(\"State |0>: \\n\", ket0)\n",
        "print(\"\\nState |1>: \\n\", ket1)\n"
      ]
    }
  ]
}