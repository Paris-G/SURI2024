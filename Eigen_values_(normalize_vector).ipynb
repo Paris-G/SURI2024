{
  "nbformat": 4,
  "nbformat_minor": 0,
  "metadata": {
    "colab": {
      "provenance": [],
      "include_colab_link": true
    },
    "kernelspec": {
      "name": "python3",
      "display_name": "Python 3"
    },
    "language_info": {
      "name": "python"
    }
  },
  "cells": [
    {
      "cell_type": "markdown",
      "metadata": {
        "id": "view-in-github",
        "colab_type": "text"
      },
      "source": [
        "<a href=\"https://colab.research.google.com/github/Paris-G/SURI2024/blob/main/Eigen_values_(normalize_vector).ipynb\" target=\"_parent\"><img src=\"https://colab.research.google.com/assets/colab-badge.svg\" alt=\"Open In Colab\"/></a>"
      ]
    },
    {
      "cell_type": "code",
      "execution_count": null,
      "metadata": {
        "colab": {
          "base_uri": "https://localhost:8080/"
        },
        "id": "hej_yF6DE477",
        "outputId": "58aefc38-2624-411e-c6a5-a6a4beb9a9fc"
      },
      "outputs": [
        {
          "output_type": "stream",
          "name": "stdout",
          "text": [
            "Eigenvalues: [ 1.61803399 -0.61803399]\n",
            "Eigenvectors: [[0.93417236 0.35682209]\n",
            " [0.35682209 0.93417236]]\n"
          ]
        }
      ],
      "source": [
        "# prompt: eigen values and eigen vectors\n",
        "#Question): Find the eigen values and eigen vectors of matrix representation\n",
        "\n",
        "import numpy as np\n",
        "A = np.array([[2, -1], [1, -1]])\n",
        "eigenvalues, eigenvectors = np.linalg.eig(A)\n",
        "print(\"Eigenvalues:\", eigenvalues)\n",
        "print(\"Eigenvectors:\", eigenvectors)\n"
      ]
    },
    {
      "cell_type": "code",
      "source": [
        "# prompt: normalization of a state\n",
        "\n",
        "import numpy as np\n",
        "\n",
        "# Define the state vector\n",
        "state_vector = np.array([2, 3])\n",
        "\n",
        "# Normalize the state vector\n",
        "norm = np.linalg.norm(state_vector)\n",
        "normalized_state_vector = state_vector / np.linalg.norm(state_vector)\n",
        "\n",
        "# Print the normalized state vector\n",
        "print(\"Norm:\", norm)\n",
        "print(\"Normalized state vector:\", normalized_state_vector)\n"
      ],
      "metadata": {
        "colab": {
          "base_uri": "https://localhost:8080/"
        },
        "id": "kjwZA9Qum6mZ",
        "outputId": "b4b98d4a-dac8-49f3-e9ed-b17c59cfbf6c"
      },
      "execution_count": null,
      "outputs": [
        {
          "output_type": "stream",
          "name": "stdout",
          "text": [
            "Norm: 3.605551275463989\n",
            "Normalized state vector: [0.5547002  0.83205029]\n"
          ]
        }
      ]
    },
    {
      "cell_type": "code",
      "source": [
        "# prompt: normalization of a state\n",
        "\n",
        "import numpy as np\n",
        "\n",
        "# Define the state vector\n",
        "state_vector = np.array([1, 1])\n",
        "\n",
        "# Normalize the state vector\n",
        "norm = np.linalg.norm(state_vector)\n",
        "normalized_state_vector = state_vector / np.linalg.norm(state_vector)\n",
        "\n",
        "# Print the normalized state vector\n",
        "print(\"Norm:\", norm)\n",
        "print(\"Normalized state vector:\", normalized_state_vector)\n"
      ],
      "metadata": {
        "colab": {
          "base_uri": "https://localhost:8080/"
        },
        "outputId": "bcd753e0-5e54-4475-bd47-1039664df3d0",
        "id": "XVQNWz8c5fGB"
      },
      "execution_count": null,
      "outputs": [
        {
          "output_type": "stream",
          "name": "stdout",
          "text": [
            "Norm: 1.4142135623730951\n",
            "Normalized state vector: [0.70710678 0.70710678]\n"
          ]
        }
      ]
    },
    {
      "cell_type": "code",
      "source": [
        "# prompt: normalization of a state\n",
        "\n",
        "import numpy as np\n",
        "\n",
        "# Define the state vector\n",
        "state_vector = np.array([[2, -1], [1, -1]])\n",
        "\n",
        "# Normalize the state vector\n",
        "norm = np.linalg.norm(state_vector)\n",
        "normalized_state_vector = state_vector / np.linalg.norm(state_vector)\n",
        "\n",
        "# Print the normalized state vector\n",
        "print(\"Norm:\", norm)\n",
        "print(\"Normalized state vector:\", normalized_state_vector)\n"
      ],
      "metadata": {
        "colab": {
          "base_uri": "https://localhost:8080/"
        },
        "outputId": "4a5cad49-2b35-47fc-fc56-edb9efb39e84",
        "id": "tofbIeRH5jto"
      },
      "execution_count": null,
      "outputs": [
        {
          "output_type": "stream",
          "name": "stdout",
          "text": [
            "Norm: 2.6457513110645907\n",
            "Normalized state vector: [[ 0.75592895 -0.37796447]\n",
            " [ 0.37796447 -0.37796447]]\n"
          ]
        }
      ]
    }
  ]
}